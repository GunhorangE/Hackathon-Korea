{
 "cells": [
  {
   "cell_type": "code",
   "execution_count": 43,
   "metadata": {},
   "outputs": [],
   "source": [
    "import numpy as np\n",
    "import matplotlib.pyplot as plt\n",
    "import copy\n",
    "from scipy.optimize import minimize, rosen, rosen_der, curve_fit\n",
    "from scipy.interpolate import UnivariateSpline\n",
    "from itertools import product\n",
    "from numpy import genfromtxt"
   ]
  },
  {
   "cell_type": "code",
   "execution_count": 2,
   "metadata": {},
   "outputs": [],
   "source": [
    "from qiskit import QuantumCircuit, execute, Aer, ClassicalRegister, QuantumRegister\n",
    "from qiskit.circuit.library import EfficientSU2\n",
    "import numpy as np\n",
    "from qiskit.visualization import plot_histogram, circuit_drawer"
   ]
  },
  {
   "cell_type": "code",
   "execution_count": 4,
   "metadata": {},
   "outputs": [],
   "source": [
    "n=2"
   ]
  },
  {
   "cell_type": "code",
   "execution_count": 5,
   "metadata": {},
   "outputs": [],
   "source": [
    "# n-qubit Pauli basis measurement and get data(counts)\n",
    "\n",
    "def qc_zxy(index_list, Initial_state_circuit):\n",
    "    n = len(index_list)\n",
    "    for i in range(n):\n",
    "        if i == 0:\n",
    "            qc = QuantumCircuit(n,n)\n",
    "            qc = qc + Initial_state_circuit\n",
    "        if index_list[i] == 0:\n",
    "            qc.h(n-1-i)\n",
    "        elif index_list[i] == 1:\n",
    "            qc.p(-np.pi/2,n-1-i)\n",
    "            qc.h(n-1-i)\n",
    "        elif index_list[i] == 2:\n",
    "            i\n",
    "        if i == n-1:\n",
    "            for j in range(n):\n",
    "                qc.measure(j,j)\n",
    "    return qc\n",
    "\n",
    "# *** used in sort_data function\n",
    "# generate product in lexicographic order, requried in sort_data ex, ['000', '001', '010', '011', '100', '101', '110', '111'] \n",
    "bin_str = [''.join(p) for p in product('10', repeat=n)]\n",
    "bin_str.reverse()\n",
    "\n",
    "def sort_data(counts):\n",
    "    data = [0]*(2**n)\n",
    "    for i in range(len(bin_str)):\n",
    "        if bin_str[i] not in counts:\n",
    "            data[i] = 0\n",
    "        else:\n",
    "            data[i] = counts[bin_str[i]]\n",
    "    return data\n",
    "\n",
    "# Measurement on different basis\n",
    "\n",
    "def for_recursive(number_of_loops, range_list, execute_function, Initial_state_circuit, basis_box_list,\n",
    "                  current_index=0, iter_list = []):\n",
    "\n",
    "    if iter_list == []:\n",
    "        iter_list = [0]*number_of_loops\n",
    "\n",
    "    if current_index == number_of_loops-1:\n",
    "        for iter_list[current_index] in range_list[current_index]:\n",
    "            execute_function(iter_list, Initial_state_circuit, basis_box_list)\n",
    "    else:\n",
    "        for iter_list[current_index] in range_list[current_index]:\n",
    "            for_recursive(number_of_loops, range_list = range_list,execute_function = get_nq_basis, \n",
    "                          Initial_state_circuit=Initial_state_circuit, basis_box_list=basis_box_list,\n",
    "                          current_index = current_index+1, iter_list = iter_list)\n",
    "    return basis_box_list\n",
    "\n",
    "def get_nq_basis(index_list, Initial_state_circuit, basis_box_list): # index_list는 밑에 나오는 순서쌍 리스트\n",
    "    n = len(index_list)\n",
    "    qc = qc_zxy(index_list, Initial_state_circuit)\n",
    "    sim = Aer.get_backend('aer_simulator')    \n",
    "    counts = execute(qc, sim, shots=N_shots).result().get_counts()\n",
    "    data = sort_data(counts)\n",
    "    data = np.array(data)\n",
    "    _Z = data.reshape([2]*n)  # basis 하나 완성\n",
    "    basis_box_list.append(_Z)\n",
    "    return\n",
    "\n",
    "\n",
    "\n",
    "# Caculate expectation values of Pauli basis    \n",
    "\n",
    "def for_recursive_expectation(number_of_loops, range_list, execute_function, expectation_values_list, basis_box_list,\n",
    "                              current_index=0, iter_list = []):\n",
    "    if iter_list == []:\n",
    "        iter_list = [0]*number_of_loops\n",
    "    if current_index == number_of_loops-1:\n",
    "        for iter_list[current_index] in range_list[current_index]:\n",
    "            execute_function(iter_list, expectation_values_list, basis_box_list)\n",
    "    else:\n",
    "        for iter_list[current_index] in range_list[current_index]:\n",
    "            for_recursive_expectation(number_of_loops, range_list = range_list,execute_function = Calculate_Pauli_Expectation,\n",
    "                                      expectation_values_list=expectation_values_list, basis_box_list=basis_box_list,\n",
    "                                      current_index = current_index+1, iter_list = iter_list)\n",
    "    return expectation_values_list\n",
    "\n",
    "\n",
    "def Calculate_Pauli_Expectation(index_list, expectation_values_list, basis_box_list):\n",
    "    # basis_index 얻기\n",
    "    index_list_copy = index_list.copy()\n",
    "    for i in range(n):\n",
    "        if index_list_copy[i] == 0:\n",
    "            index_list_copy[i] = 1\n",
    "    index_list_copy.reverse()\n",
    "    index_list_copy = np.array(index_list_copy)\n",
    "    basis_index = index_list_copy[0]\n",
    "    for i in range(1,n):\n",
    "        basis_index = basis_index + (index_list_copy[i]-1)*3**i\n",
    "\n",
    "    # egienvalue 나열 만들기 ex) 2qubit -> array[[1,-1],[1,-1]]\n",
    "    egienvalue_1d_array = np.array([1,-1])\n",
    "    for i in range(n-1):\n",
    "        egienvalue_1d_array = np.append(egienvalue_1d_array, egienvalue_1d_array * -1)\n",
    "    egienvalue_1d_array = egienvalue_1d_array.reshape([2]*n)\n",
    "    \n",
    "    # Pauli expectation values 얻기\n",
    "    S0 = [slice(None,None)]*n # 필요한 axis의 eigenvalue를 바꾸어주기 위해 필요. +1 -> -1 ,  -1 -> +1\n",
    "    \n",
    "    # 알맞은 +1, -1 egienvalues를 states에 곱하기\n",
    "    for i in range(n):\n",
    "        if index_list[i] == 0:\n",
    "            S1 = S0.copy()\n",
    "            S1[i] = 1\n",
    "            S = tuple(S1)\n",
    "            egienvalue_1d_array[S] = egienvalue_1d_array[S].dot(-1)\n",
    "            \n",
    "    # basis_box_list normalization\n",
    "    basis_box_list_normalized = basis_box_list.copy()\n",
    "    for i in range(3**n):\n",
    "        basis_box_list_normalized[i] = basis_box_list_normalized[i].dot(1/N_shots)\n",
    "    expectation_value = np.dot(basis_box_list_normalized[basis_index-1].flatten(), egienvalue_1d_array.flatten()) # *** 이전 단계에서 얻은 데이터(basis_box_list_normalized)가 여기서 쓰임.    \n",
    "    expectation_values_list.append(expectation_value)\n",
    "    return"
   ]
  },
  {
   "cell_type": "code",
   "execution_count": 6,
   "metadata": {},
   "outputs": [],
   "source": [
    "# basis_list ex) ['iz', 'xx', 'zi', 'zz'],  P_weight ex) [0.397936, 0.180931, 0.397936, 0.01128], \n",
    "# basis_needed ex) [3, 5, 12, 15]   구하기\n",
    "\n",
    "def basis_to_sequence_number(basis):\n",
    "    x = list(basis[0])\n",
    "    x_list = []\n",
    "    for i in range(n):\n",
    "        if x[i] == 'i':\n",
    "            x_list.append(0)\n",
    "        elif x[i] == 'x':\n",
    "            x_list.append(1)\n",
    "        elif x[i] == 'y':\n",
    "            x_list.append(2)\n",
    "        elif x[i] == 'z':\n",
    "            x_list.append(3)    \n",
    "    x_list.reverse()\n",
    "    sequence_number = 0\n",
    "    for i in range(len(x_list)-1,-1,-1):\n",
    "        sequence_number += x_list[i]*4**i\n",
    "    return sequence_number\n",
    "\n",
    "def basis_tup_append_basis_needed(basis_tups):\n",
    "    for i in range(len(basis_tups)):\n",
    "        basis_tups[i] = basis_tups[i]+(basis_to_sequence_number(basis_tups[i]),)\n",
    "    return basis_tups\n",
    "\n",
    "# 최종적으로 필요한 함수\n",
    "def basis_tup_sort(basis_tups):\n",
    "    basis_tups = basis_tup_append_basis_needed(basis_tups)\n",
    "    sequence_number_list = []\n",
    "    for i in range(len(basis_tups)):\n",
    "        sequence_number_list.append(basis_tups[i][2])\n",
    "    new_basis_list = []\n",
    "    new_weight_list = []\n",
    "    new_sequence_number_list =[]\n",
    "    while basis_tups:\n",
    "        minimum = basis_tups[0][2]  # arbitrary number in list \n",
    "        index = 0\n",
    "        for i in range(len(sequence_number_list)): \n",
    "            if sequence_number_list[i] < minimum:\n",
    "                minimum = sequence_number_list[i]\n",
    "                index = i\n",
    "        new_sequence_number_list.append(minimum)\n",
    "        sequence_number_list.remove(minimum)\n",
    "        \n",
    "        x = list(basis_tups[index])\n",
    "        x.remove(minimum)\n",
    "        \n",
    "        new_basis_list.append(x[0])\n",
    "        new_weight_list.append(x[1])\n",
    "        basis_tups.remove(basis_tups[index])\n",
    "    \n",
    "    basis_list = new_basis_list \n",
    "    P_weight = new_weight_list \n",
    "    basis_needed = new_sequence_number_list\n",
    "    \n",
    "    return basis_list, P_weight, basis_needed"
   ]
  },
  {
   "cell_type": "code",
   "execution_count": 7,
   "metadata": {},
   "outputs": [],
   "source": [
    "#Function that calculates expectation value of Hamiltonian\n",
    "def VQE_q_opt_full_pap(x, P_weight, basis_needed):\n",
    "    ### Transformation on initial state\n",
    "    global history\n",
    "    global itera\n",
    "    global iter_angle\n",
    "    global iterarry\n",
    "    \n",
    "    itera += 1\n",
    "    \n",
    "    xcopy= x.copy()\n",
    "    xcopy *= 180/np.pi\n",
    "    xcopy=np.mod(xcopy,360)\n",
    "    iter_angle.append(xcopy)\n",
    "    iterarry.append(itera)\n",
    "    \n",
    "     \n",
    "    #State preparation (EfficientSU2, Qiskit)\n",
    "    parameters = x\n",
    "    circuit = EfficientSU2(n, reps=1)\n",
    "    circuit = circuit.assign_parameters(parameters, inplace=False)\n",
    "    init = circuit + QuantumCircuit(n,n)\n",
    "    Initial_state_circuit = init\n",
    "\n",
    "    #Measurement, get data(counts)\n",
    "    basis_box_list = []\n",
    "    basis_box_list = for_recursive(number_of_loops = n, range_list = [range(0,3)] * n, execute_function = get_nq_basis,\n",
    "                                   Initial_state_circuit = Initial_state_circuit, basis_box_list = basis_box_list)\n",
    "    \n",
    "    #Caculate expectation values of Pauli\n",
    "    expectation_values_list = []\n",
    "    expectation_values_list = for_recursive_expectation(number_of_loops = n, range_list = [range(0,4)] * n,\n",
    "                                                         execute_function = Calculate_Pauli_Expectation, \n",
    "                                                          expectation_values_list = expectation_values_list,\n",
    "                                                           basis_box_list=basis_box_list)\n",
    "    #weight sum of expectation values by P_weight (Hamiltonian for each basis)\n",
    "    expectation_values_needed = []\n",
    "    for i in range(len(basis_needed)):\n",
    "        expectation_values_needed.append(expectation_values_list[basis_needed[i]])\n",
    "    val = np.array(expectation_values_needed).dot(np.array(P_weight))*(1/2)\n",
    "    history.append([itera] + x.tolist() + [val])\n",
    "    return(val)"
   ]
  },
  {
   "cell_type": "code",
   "execution_count": 8,
   "metadata": {},
   "outputs": [],
   "source": [
    "def from_csvfile_to_array(file_csv):\n",
    "    # file_csv must be string type, ex) 'all_H.csv'\n",
    "    my_data = genfromtxt(file_csv, delimiter=',', dtype = None, encoding='utf-8-sig')\n",
    "    all_H = my_data[1:].astype(float)\n",
    "    name = my_data[0,1:].astype(np.str)\n",
    "    return all_H, name\n",
    "\n",
    "#### Make weight list of interest by providing the index in all_H. Input index and all_H data\n",
    "def make_weight_list(ii, all_H):\n",
    "    '''\n",
    "    Returns the distance R, and weight list, P_weight (as a list) from the index ii of Supplementary\n",
    "    Table 2 of https://www.nature.com/articles/ncomms5213.pdf\n",
    "    '''\n",
    "    R = all_H[ii][0]\n",
    "    P_weight = np.delete(all_H[ii], 0)  # [dat[1], dat[2], dat[3], dat[4], dat[5],dat[6], dat[7], dat[8], dat[9]]\n",
    "    \n",
    "    return R, P_weight"
   ]
  },
  {
   "cell_type": "code",
   "execution_count": null,
   "metadata": {},
   "outputs": [],
   "source": []
  },
  {
   "cell_type": "code",
   "execution_count": 86,
   "metadata": {},
   "outputs": [],
   "source": [
    "#Input Information\n",
    "\n",
    "#Number of Qubits\n",
    "n=2\n",
    "#N_shots, Number of measurements per member (Pauli product) Hamiltonian\n",
    "N_shots=1000\n",
    "\n",
    "#input data in tuples \n",
    "\n",
    "#basis_tups = [('ii', -3.3893),('ix', -0.1968),('iz', -1.2073),('xi', -0.1968),('xx', 0.3052),('xz', 0.1968),\n",
    "            #('zi', -1.2073),('zx', 0.1968),('zz', 0.1626)] # H - He, atomic distance 0.7 angstrom\n",
    "basis_tups = [('ii', -3.5417),('ix', -0.2060),('iz', -1.1552),('xi', -0.2060),('xx', 0.2958),('xz', 0.2060),\n",
    "            ('zi', -1.1552),('zx', 0.2060),('zz', 0.1791)] # H - He, atomic distance 0.75 angstrom\n",
    "#basis_tups = [('ii', -3.666),('ix', -0.2145),('iz', -1.1117),('xi', -0.2145),('xx', 0.2853),('xz', 0.2145),\n",
    "            #('zi', -1.1117),('zx', 0.2145),('zz', 0.1968)] # H - He, atomic distance 0.8 angstrom\n",
    "#basis_tups = [('ii', -3.8505),('ix', -0.2288),('iz', -1.0466),('xi', -0.2288),('xx', 0.2613),('xz', 0.2288),\n",
    "            #('zi', -1.0466),('zx', 0.2288),('zz', 0.2356)] # H - He, atomic distance 0.9 angstrom\n",
    "#basis_tups = [('zz', 0.011280),('zi', 0.397936),('iz', 0.397936),('xx', 0.180931)] # H - H\n",
    "#measurement basis you will use in order, ex) II,IX,IY,IZ,XI,XX, ... ,ZZ  -->>  0,1,2,3,4,5, ... ,15\n",
    "# ex) 'iz', 'xx', 'zi', 'zz'  =>   [3, 5, 12, 15]\n",
    "\n",
    "basis_list, P_weight, basis_needed = basis_tup_sort(basis_tups)\n",
    "\n",
    "#Or input data by importing data\n",
    "#all_H, name = from_csvfile_to_array('')\n",
    "#R, P_weight = make_weight_list(ii, all_H)\n",
    "#basis_needed = ex) [3, 5, 12, 15] 직접 입력 필요\n",
    "\n",
    "\n",
    "#you need a theorectical value to compare with results\n",
    "val = -2.90324307 # R=0.7  #-2.8626207640, R=0.8 H-He\n",
    "#val = -1.13722138 # H-H\n"
   ]
  },
  {
   "cell_type": "code",
   "execution_count": 87,
   "metadata": {},
   "outputs": [],
   "source": [
    "#basis_list, P_weight, basis_needed"
   ]
  },
  {
   "cell_type": "code",
   "execution_count": 91,
   "metadata": {
    "scrolled": false
   },
   "outputs": [],
   "source": [
    "cor_rep=0\n",
    "succ=0\n",
    "results=[]\n",
    "itera = 0\n",
    "prehis=[[0]]\n",
    "min_val=[]\n",
    "lamda=[]\n",
    "save=[]\n",
    "cor_rep=0\n",
    "np.random.seed(30)# Seed of the random number. Used to generate the same sequence of random number in every run.\n",
    "\n",
    "while cor_rep<5:\n",
    "    itera = 0\n",
    "    history = []\n",
    "    cor_rep +=1\n",
    "    iter_angle=[]\n",
    "    iterarry=[]\n",
    "    iter_angle1=[]\n",
    "    init_parameters = np.pi*np.random.random((4*n, 1))\n",
    "    init_parameters = [item for sublist in init_parameters for item in sublist]\n",
    "    res = minimize(VQE_q_opt_full_pap, init_parameters, method ='COBYLA',\\\n",
    "                   args = (P_weight, basis_needed), options = {'maxiter':200,'tol':0.01,'rhobeg':3.14/2})\n",
    "    history = np.array(history)\n",
    "    minH=np.min(history[:, -1]) #최소 H    \n",
    "    if abs(minH-val)<0.05:\n",
    "        succ += 1\n",
    "        results.append([history[-1, 0]]+[minH.tolist()]) #이터레이션\n",
    "        #print(results)\n",
    "    if cor_rep == 1 or np.min(history[:, -1])<np.min(prehis[:, -1]):\n",
    "         prehis=copy.deepcopy(history)## find oneof ten min_history"
   ]
  },
  {
   "cell_type": "code",
   "execution_count": 92,
   "metadata": {
    "scrolled": false
   },
   "outputs": [
    {
     "data": {
      "text/plain": [
       "4"
      ]
     },
     "execution_count": 92,
     "metadata": {},
     "output_type": "execute_result"
    }
   ],
   "source": [
    "succ"
   ]
  },
  {
   "cell_type": "code",
   "execution_count": 93,
   "metadata": {
    "scrolled": true
   },
   "outputs": [
    {
     "data": {
      "text/plain": [
       "     fun: -2.8134547\n",
       "   maxcv: 0.0\n",
       " message: 'Optimization terminated successfully.'\n",
       "    nfev: 66\n",
       "  status: 1\n",
       " success: True\n",
       "       x: array([ 0.70542769,  1.58746493, -0.05433065,  3.24773959,  0.87154884,\n",
       "        1.72137301,  1.90044676,  2.89054039])"
      ]
     },
     "execution_count": 93,
     "metadata": {},
     "output_type": "execute_result"
    }
   ],
   "source": [
    "res"
   ]
  },
  {
   "cell_type": "code",
   "execution_count": 94,
   "metadata": {},
   "outputs": [
    {
     "name": "stdout",
     "output_type": "stream",
     "text": [
      "mean iteration 64 mean <H> -2.8573 std <H> 0.0021 min <H> -2.86063 ideal H -2.9032 success 4 mean N 64.25 std N 7.6281 mean H - ideal H -0.046\n"
     ]
    }
   ],
   "source": [
    "results=np.array(results)\n",
    "results[:,1]=np.round(results[:,1],5)\n",
    "print('mean iteration',round(np.mean(results[:,0])),'mean <H>',round(np.mean(results[:,1]),4),'std <H>',round(np.std(results[:,1]),4),'min <H>',np.min(results[:,1]),'ideal H',round(val,4),\\\n",
    "      'success',succ, 'mean N',round(np.mean(results[:,0]),4),'std N',round(np.std(results[:,0]),4),'mean H - ideal H',round(val-np.mean(results[:,1]),4))"
   ]
  },
  {
   "cell_type": "code",
   "execution_count": 95,
   "metadata": {
    "scrolled": true
   },
   "outputs": [
    {
     "name": "stdout",
     "output_type": "stream",
     "text": [
      "mean iteration 64 mean <H> -2.8573 std <H> 0.0021 min <H> -2.86063 ideal H -2.9032 success 4 mean N 64.25 std N 7.6281 mean H - ideal H -0.046\n"
     ]
    }
   ],
   "source": [
    "results=np.array(results)\n",
    "results[:,1]=np.round(results[:,1],5)\n",
    "print('mean iteration',round(np.mean(results[:,0])),'mean <H>',round(np.mean(results[:,1]),4),'std <H>',round(np.std(results[:,1]),4),'min <H>',np.min(results[:,1]),'ideal H',round(val,4),\\\n",
    "      'success',succ, 'mean N',round(np.mean(results[:,0]),4),'std N',round(np.std(results[:,0]),4),'mean H - ideal H',round(val-np.mean(results[:,1]),4))"
   ]
  },
  {
   "cell_type": "code",
   "execution_count": 189,
   "metadata": {},
   "outputs": [
    {
     "data": {
      "image/png": "[encoded data removed]",
      "text/plain": [
       "<Figure size 432x288 with 1 Axes>"
      ]
     },
     "metadata": {
      "needs_background": "light"
     },
     "output_type": "display_data"
    }
   ],
   "source": [
    "#Energy levels, -2.90324307, -2.49995502, -2.12374055, -2.02802390\n",
    "\n",
    "plt.scatter(history[:, 0], history[:,-1], label = 'Simulation')\n",
    "plt.plot([history[0,0], history[-1,0]], [-2.90324307,-2.90324307], 'red', label = 'Energy levels')\n",
    "plt.plot([history[0,0], history[-1,0]], [-2.49995502,-2.49995502], 'red', label = '')\n",
    "plt.plot([history[0,0], history[-1,0]], [-2.12374055,-2.12374055], 'red', label = '')\n",
    "plt.plot([history[0,0], history[-1,0]], [-2.02802390,-2.02802390], 'red', label = '')\n",
    "\n",
    "plt.legend()\n",
    "plt.title('')\n",
    "plt.xlabel('Optimization step i')\n",
    "plt.ylabel('Energy (Hartree)')\n",
    "plt.show()\n",
    "\n",
    "#print('Minimum in simulation:', min(history[:,-1]), '\\nTheoretical Minimum: ', val, '\\nObjective Function Returns:', res.fun)"
   ]
  },
  {
   "cell_type": "code",
   "execution_count": 194,
   "metadata": {
    "scrolled": true
   },
   "outputs": [
    {
     "data": {
      "image/png": "[encoded data removed]",
      "text/plain": [
       "<Figure size 432x288 with 1 Axes>"
      ]
     },
     "metadata": {
      "needs_background": "light"
     },
     "output_type": "display_data"
    }
   ],
   "source": [
    "plt.title('')\n",
    "plt.plot(iterarry,iter_angle)\n",
    "plt.xlabel('Optimization step i')\n",
    "plt.ylabel('Theta angles (deg)')\n",
    "plt.legend(['θ1','θ2','θ3','θ4','θ5','θ6','θ7','θ8'],loc=1)\n",
    "plt.show()"
   ]
  },
  {
   "cell_type": "code",
   "execution_count": null,
   "metadata": {},
   "outputs": [],
   "source": []
  },
  {
   "cell_type": "code",
   "execution_count": null,
   "metadata": {},
   "outputs": [],
   "source": [
    "#adding codes to caculute the minimal energy at each distance (전체 atomic seperation 0.05 ~ 3.95 angstrom에 대해 계산)"
   ]
  },
  {
   "cell_type": "code",
   "execution_count": 100,
   "metadata": {},
   "outputs": [],
   "source": [
    "def from_csvfile_to_array(file_csv):\n",
    "    # file_csv must be string type, ex) 'all_H.csv'\n",
    "    my_data = genfromtxt(file_csv, delimiter=',', dtype = None, encoding='utf-8-sig')\n",
    "    all_H = my_data[1:].astype(float)\n",
    "    name = my_data[0,1:].astype(np.str)\n",
    "    return all_H, name\n",
    "\n",
    "#### Make weight list of interest by providing the index in all_H. Input index and all_H data\n",
    "def make_weight_list(ii, all_H):\n",
    "    '''\n",
    "    Returns the distance R, and weight list, P_weight (as a list) from the index ii of Supplementary\n",
    "    Table 2 of https://www.nature.com/articles/ncomms5213.pdf\n",
    "    '''\n",
    "    R = all_H[ii][0]\n",
    "    P_weight = np.delete(all_H[ii], 0)  # [dat[1], dat[2], dat[3], dat[4], dat[5],dat[6], dat[7], dat[8], dat[9]]\n",
    "    \n",
    "    return R, P_weight"
   ]
  },
  {
   "cell_type": "code",
   "execution_count": 101,
   "metadata": {},
   "outputs": [],
   "source": [
    "#Function that calculates expectation value of Hamiltonian\n",
    "def VQE_q_opt_full_pap_no_history(x, P_weight, basis_needed):\n",
    "     \n",
    "    #State preparation (EfficientSU2, Qiskit)\n",
    "    parameters = x\n",
    "    circuit = EfficientSU2(n, reps=1)\n",
    "    circuit = circuit.assign_parameters(parameters, inplace=False)\n",
    "    init = circuit + QuantumCircuit(n,n)\n",
    "    Initial_state_circuit = init\n",
    "\n",
    "    #Measurement, get data(counts)\n",
    "    basis_box_list = []\n",
    "    basis_box_list = for_recursive(number_of_loops = n, range_list = [range(0,3)] * n, execute_function = get_nq_basis,\n",
    "                                   Initial_state_circuit = Initial_state_circuit, basis_box_list = basis_box_list)\n",
    "    \n",
    "    #Caculate expectation values of Pauli\n",
    "    expectation_values_list = []\n",
    "    expectation_values_list = for_recursive_expectation(number_of_loops = n, range_list = [range(0,4)] * n,\n",
    "                                                         execute_function = Calculate_Pauli_Expectation, \n",
    "                                                          expectation_values_list = expectation_values_list,\n",
    "                                                           basis_box_list=basis_box_list)\n",
    "    #weight sum of expectation values by P_weight (Hamiltonian for each basis)\n",
    "    expectation_values_needed = []\n",
    "    for i in range(len(basis_needed)):\n",
    "        expectation_values_needed.append(expectation_values_list[basis_needed[i]])\n",
    "    val = np.array(expectation_values_needed).dot(np.array(P_weight))*(1/2)\n",
    "    \n",
    "    return(val)"
   ]
  },
  {
   "cell_type": "code",
   "execution_count": 102,
   "metadata": {
    "scrolled": false
   },
   "outputs": [
    {
     "name": "stderr",
     "output_type": "stream",
     "text": [
      "<ipython-input-100-28b568051310>:5: DeprecationWarning: `np.str` is a deprecated alias for the builtin `str`. To silence this warning, use `str` by itself. Doing this will not modify any behavior and is safe. If you specifically wanted the numpy scalar type, use `np.str_` here.\n",
      "Deprecated in NumPy 1.20; for more details and guidance: https://numpy.org/devdocs/release/1.20.0-notes.html#deprecations\n",
      "  name = my_data[0,1:].astype(np.str)\n"
     ]
    }
   ],
   "source": [
    "all_H, name = from_csvfile_to_array('all_H.csv') # H - He, atomic distance (angstrom)"
   ]
  },
  {
   "cell_type": "code",
   "execution_count": 103,
   "metadata": {},
   "outputs": [
    {
     "data": {
      "text/plain": [
       "79"
      ]
     },
     "execution_count": 103,
     "metadata": {},
     "output_type": "execute_result"
    }
   ],
   "source": [
    "len(all_H)"
   ]
  },
  {
   "cell_type": "code",
   "execution_count": 136,
   "metadata": {},
   "outputs": [],
   "source": [
    "#Number of Qubits\n",
    "n=2\n",
    "#N_shots, Number of repetition for measurement per a basis - (Pauli product) Hamiltonian\n",
    "N_shots=1500\n",
    "#you need a theorectical value to compare with results\n",
    "\n",
    "#rep = len(all_H)\n",
    "rep = 69\n",
    "min_E = []\n",
    "\n",
    "for i in range(rep):\n",
    "    R, P_weight = make_weight_list(i, all_H)\n",
    "\n",
    "    #input data in tuples\n",
    "    basis_tups = [('ii', P_weight[0]),('ix', P_weight[1]),('iz', P_weight[2]),('xi', P_weight[3]),('xx', P_weight[4]),\n",
    "                  ('xz', P_weight[5]), ('zi', P_weight[6]),('zx', P_weight[7]),('zz', P_weight[8])] \n",
    "                  # H - He, atomic distance in angstrom\n",
    "    basis_list, P_weight, basis_needed = basis_tup_sort(basis_tups)\n",
    "\n",
    "    np.random.seed(30)# Seed of the random number. Used to generate the same sequence of random number in every run.\n",
    "\n",
    "    init_parameters = np.pi*np.random.random((4*n, 1))\n",
    "    init_parameters = [item for sublist in init_parameters for item in sublist]\n",
    "    res = minimize(VQE_q_opt_full_pap_no_history, init_parameters, method ='COBYLA',\\\n",
    "                    args = (P_weight, basis_needed), options = {'maxiter':100,'tol':0.001,'rhobeg':3.14/2})\n",
    "    min_E.append(res.fun)    \n",
    "#min_E"
   ]
  },
  {
   "cell_type": "code",
   "execution_count": 139,
   "metadata": {
    "scrolled": true
   },
   "outputs": [
    {
     "data": {
      "image/png": "[encoded data removed]",
      "text/plain": [
       "<Figure size 432x288 with 1 Axes>"
      ]
     },
     "metadata": {
      "needs_background": "light"
     },
     "output_type": "display_data"
    }
   ],
   "source": [
    "x = np.arange(1,80) * 0.05\n",
    "plt.scatter(x, min_E_0, label = 'Simulation')\n",
    "plt.xlim(0.4,1)\n",
    "plt.ylim(-3,-2.4)\n",
    "plt.legend()\n",
    "plt.title('')\n",
    "plt.xlabel('Atomic separation R (Å)')\n",
    "plt.ylabel('Energy (Hartree)')\n",
    "plt.show()"
   ]
  },
  {
   "cell_type": "code",
   "execution_count": null,
   "metadata": {},
   "outputs": [],
   "source": [
    "from matplotlib.pyplot import figure\n",
    "figure(figsize=(8, 6), dpi=80)"
   ]
  },
  {
   "cell_type": "code",
   "execution_count": 256,
   "metadata": {},
   "outputs": [
    {
     "data": {
      "image/png": "[encoded data removed]",
      "text/plain": [
       "<Figure size 576x288 with 1 Axes>"
      ]
     },
     "metadata": {
      "needs_background": "light"
     },
     "output_type": "display_data"
    }
   ],
   "source": [
    "x = np.arange(1,70) * 0.05\n",
    "y = min_E_1\n",
    "\n",
    "f = UnivariateSpline(x, y, s=0.5)\n",
    "\n",
    "# calculate new x's and y's\n",
    "x_new = np.linspace(x[0], x[68], 1000)\n",
    "y_new = f(x_new)\n",
    "\n",
    "plt.plot(x,y,'o', label = 'Simulation')\n",
    "plt.plot(x_new, y_new, label = 'Fitted line')\n",
    "plt.xlim([x[0]-0.1, x[-1] + 0.1 ])\n",
    "plt.ylim(-10,20)\n",
    "plt.legend()\n",
    "plt.xlabel('Atomic separation R (Å)')\n",
    "plt.ylabel('Energy (Hartree)')\n",
    "\n",
    "plt.rcParams[\"figure.figsize\"]= 8,4 #???\n",
    "\n",
    "plt.show()"
   ]
  },
  {
   "cell_type": "code",
   "execution_count": 287,
   "metadata": {},
   "outputs": [
    {
     "data": {
      "image/png": "[encoded data removed]",
      "text/plain": [
       "<Figure size 360x288 with 1 Axes>"
      ]
     },
     "metadata": {
      "needs_background": "light"
     },
     "output_type": "display_data"
    }
   ],
   "source": [
    "x = np.arange(1,70) * 0.05\n",
    "y = min_E_1\n",
    "\n",
    "f = UnivariateSpline(x, y, s = 0.5)\n",
    "\n",
    "# calculate new x's and y's\n",
    "x_new = np.linspace(x[0], x[68], 1000)\n",
    "y_new = f(x_new)\n",
    "\n",
    "plt.plot(x,y,'o', label = 'Simulation')\n",
    "plt.plot(x_new, y_new, label = 'Fitted line')\n",
    "plt.xlim(0.4,3)\n",
    "plt.ylim(-3,-2.4)\n",
    "plt.legend()\n",
    "plt.xlabel('Atomic separation R (Å)')\n",
    "plt.ylabel('Energy (Hartree)')\n",
    "\n",
    "plt.rcParams[\"figure.figsize\"]= 4,4 #???\n",
    "plt.show()"
   ]
  },
  {
   "cell_type": "code",
   "execution_count": null,
   "metadata": {},
   "outputs": [],
   "source": []
  }
 ],
 "metadata": {
  "kernelspec": {
   "display_name": "Python 3",
   "language": "python",
   "name": "python3"
  },
  "language_info": {
   "codemirror_mode": {
    "name": "ipython",
    "version": 3
   },
   "file_extension": ".py",
   "mimetype": "text/x-python",
   "name": "python",
   "nbconvert_exporter": "python",
   "pygments_lexer": "ipython3",
   "version": "3.9.5"
  }
 },
 "nbformat": 4,
 "nbformat_minor": 4
}
