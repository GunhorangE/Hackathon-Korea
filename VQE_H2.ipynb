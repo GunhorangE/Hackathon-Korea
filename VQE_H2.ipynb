{
 "cells": [
  {
   "cell_type": "code",
   "execution_count": 1,
   "id": "b315cddc-6e32-43d6-a444-8587b42b593e",
   "metadata": {},
   "outputs": [],
   "source": [
    "import numpy as np\n",
    "\n",
    "from qiskit import *\n",
    "from qiskit.tools.monitor import job_monitor\n",
    "\n",
    "from qiskit import assemble,pulse,QuantumCircuit,schedule,transpile\n",
    "from qiskit.pulse.channels import ControlChannel, DriveChannel\n",
    "\n",
    "from qiskit.circuit import Gate\n",
    "from qiskit.providers.aer import PulseSimulator\n",
    "from qiskit.providers.aer.pulse import PulseSystemModel\n",
    "from qiskit.test.mock import FakeValencia,FakeBogota, FakeArmonk\n",
    "from qiskit.visualization import plot_histogram\n",
    "\n",
    "from qiskit.visualization.pulse_v2 import draw, IQXSimple, IQXDebugging,IQXStandard"
   ]
  },
  {
   "cell_type": "code",
   "execution_count": null,
   "id": "62a71dbf",
   "metadata": {},
   "outputs": [],
   "source": [
    "from qiskit_nature.drivers import UnitsType, Molecule\n",
    "from qiskit_nature.drivers.second_quantization import (\n",
    "    ElectronicStructureDriverType,\n",
    "    ElectronicStructureMoleculeDriver)\n",
    "\n",
    "from qiskit_nature.problems.second_quantization import ElectronicStructureProblem\n",
    "from qiskit_nature.converters.second_quantization import QubitConverter\n",
    "from qiskit_nature.mappers.second_quantization import JordanWignerMapper, ParityMapper\n",
    "\n",
    "import numpy as np"
   ]
  },
  {
   "cell_type": "code",
   "execution_count": 12,
   "id": "e2b92c00-7f5d-423c-8f08-d646c2180443",
   "metadata": {},
   "outputs": [],
   "source": [
    "from scipy.optimize import minimize\n",
    "from matplotlib.pyplot import figure\n",
    "from scipy.interpolate import UnivariateSpline"
   ]
  },
  {
   "cell_type": "code",
   "execution_count": null,
   "id": "de498242",
   "metadata": {},
   "outputs": [],
   "source": [
    "Atomic_distance_array = np.append(np.arange(0.3, 1, 0.05), (np.arange(1, 1.599, 0.1)))\n",
    "\n",
    "Coeffs_Pauli_Op_distance = []\n",
    "\n",
    "for i in range(len(Atomic_distance_array)):\n",
    "    \n",
    "    molecule = Molecule(\n",
    "    geometry=[[\"H\", [0.0, 0.0, 0.0]], [\"H\", [0.0, 0.0, Atomic_distance_array[i]]]], charge=0, multiplicity=1)\n",
    "    driver = ElectronicStructureMoleculeDriver(molecule, basis=\"sto3g\", driver_type=ElectronicStructureDriverType.PYSCF)\n",
    "    \n",
    "    es_problem = ElectronicStructureProblem(driver)\n",
    "    second_q_op = es_problem.second_q_ops()\n",
    "    \n",
    "    qubit_converter = QubitConverter(mapper=JordanWignerMapper(), z2symmetry_reduction=[-1,1,-1])\n",
    "    qubit_op = qubit_converter.convert(second_q_op[0])\n",
    "    \n",
    "    coeffs = []\n",
    "    \n",
    "    for j in range(3):\n",
    "        coeffs.append(qubit_op[j].coeffs[0])\n",
    "    \n",
    "    Coeffs_Pauli_Op_distance.append(coeffs)\n",
    "\n",
    "Real_Coeffs_Pauli_Op_distance = np.real(Coeffs_Pauli_Op_distance)  "
   ]
  },
  {
   "cell_type": "code",
   "execution_count": 141,
   "id": "0447782e-bdb4-40a6-a45e-eb3384301930",
   "metadata": {},
   "outputs": [
    {
     "data": {
      "text/plain": [
       "array([[-0.74045398, -1.61729782,  0.16081852],\n",
       "       [-0.79755815, -1.49483165,  0.16257322],\n",
       "       [-0.84966556, -1.37763886,  0.16451542],\n",
       "       [-0.89568293, -1.26777957,  0.1666214 ],\n",
       "       [-0.93519145, -1.16615925,  0.16887023],\n",
       "       [-0.96821355, -1.07297757,  0.17124452],\n",
       "       [-0.99506269, -0.98802757,  0.17373064],\n",
       "       [-1.01624849, -0.91086684,  0.17631845],\n",
       "       [-1.03240512, -0.84091136,  0.17900058],\n",
       "       [-1.04422589, -0.77749518,  0.18177154],\n",
       "       [-1.05240306, -0.71991885,  0.18462678],\n",
       "       [-1.05757899, -0.66749299,  0.18756185],\n",
       "       [-1.06031416, -0.61957456,  0.19057169],\n",
       "       [-1.06107359, -0.57559198,  0.19365032],\n",
       "       [-1.06022856, -0.5350573 ,  0.19679058],\n",
       "       [-1.05481731, -0.46279175,  0.20322223],\n",
       "       [-1.04570856, -0.40037915,  0.20979147],\n",
       "       [-1.0339543 , -0.34621571,  0.21641746],\n",
       "       [-1.0203285 , -0.29913588,  0.22302209],\n",
       "       [-1.00545574, -0.25820263,  0.22953594]])"
      ]
     },
     "execution_count": 141,
     "metadata": {},
     "output_type": "execute_result"
    }
   ],
   "source": [
    "len(Real_Coeffs_Pauli_Op_distance)\n",
    "Real_Coeffs_Pauli_Op_distance"
   ]
  },
  {
   "cell_type": "code",
   "execution_count": 77,
   "id": "125c2f18-ba61-49e8-9742-59db2f495eea",
   "metadata": {},
   "outputs": [],
   "source": [
    "#define pulsesimulator from the backend profile\n",
    "#backend = FakeBogota()\n",
    "#backend = FakeValencia()\n",
    "backend = FakeArmonk()\n",
    "\n",
    "\n",
    "# setting for build pulse simulation\n",
    "model = PulseSystemModel.from_backend(backend)\n",
    "qubit_lo_freq = model.hamiltonian.get_qubit_lo_from_drift()\n",
    "backend_sim = PulseSimulator(system_model = model)\n",
    "backend_sim.set_options(qubit_lo_freq=backend.defaults().qubit_freq_est)\n"
   ]
  },
  {
   "cell_type": "code",
   "execution_count": 62,
   "id": "9180cefc-5176-4925-ba81-91fc32447ce2",
   "metadata": {},
   "outputs": [],
   "source": [
    "def quantum_state_preparation(circuit, parameters):\n",
    "    q = circuit.qregs[0] # q is the quantum register where the info about qubits is stored\n",
    "    circuit.rx(parameters[0], q[0]) # q[0] is our one and only qubit XD\n",
    "    circuit.ry(parameters[1], q[0])\n",
    "    return circuit"
   ]
  },
  {
   "cell_type": "code",
   "execution_count": 86,
   "id": "0889341b-392f-4950-bfa0-ac78185a67db",
   "metadata": {},
   "outputs": [
    {
     "data": {
      "image/png": "[encoded data removed]",
      "text/plain": [
       "<Figure size 246.666x144.48 with 1 Axes>"
      ]
     },
     "execution_count": 86,
     "metadata": {},
     "output_type": "execute_result"
    }
   ],
   "source": [
    "q = QuantumRegister(1)\n",
    "c = ClassicalRegister(1)\n",
    "circuit = QuantumCircuit(q, c)\n",
    "circuit.rx(np.pi, q[0]) # q[0] is our one and only qubit XD\n",
    "circuit.ry(np.pi, q[0])\n",
    "circuit.draw('mpl')"
   ]
  },
  {
   "cell_type": "code",
   "execution_count": 97,
   "id": "238d8be7-9686-4e35-82bb-1d2316d5efde",
   "metadata": {},
   "outputs": [],
   "source": [
    "def vqe_circuit(parameters, measure):\n",
    "    \"\"\"\n",
    "    Creates a device ansatz circuit for optimization.\n",
    "    :param parameters_array: list of parameters for constructing ansatz state that should be optimized.\n",
    "    :param measure: measurement type. E.g. 'Z' stands for Z measurement.\n",
    "    :return: quantum circuit.\n",
    "    \"\"\"\n",
    "    q = QuantumRegister(1)\n",
    "    c = ClassicalRegister(1)\n",
    "    circuit = QuantumCircuit(q, c)\n",
    "\n",
    "    # quantum state preparation\n",
    "    circuit = quantum_state_preparation(circuit, parameters)\n",
    "\n",
    "    # measurement\n",
    "    if measure == 'Z':\n",
    "        circuit.measure(q[0], c[0])\n",
    "    elif measure == 'X':\n",
    "        circuit.h(q[0])\n",
    "        circuit.measure(q[0], c[0])\n",
    "    else:\n",
    "        raise ValueError('Not valid input for measurement: input should be \"Z\" or \"X\"')\n",
    "\n",
    "    return circuit"
   ]
  },
  {
   "cell_type": "code",
   "execution_count": 98,
   "id": "fd226a2a-d977-456d-a92f-a5eaf65fcdf3",
   "metadata": {},
   "outputs": [],
   "source": [
    "def quantum_module(parameters, measure):\n",
    "    # measure\n",
    "    if measure == 'I':\n",
    "        return 1\n",
    "    elif measure == 'Z':\n",
    "        circuit = vqe_circuit(parameters, 'Z')\n",
    "    elif measure == 'X':\n",
    "        circuit = vqe_circuit(parameters, 'X')\n",
    "    else:\n",
    "        raise ValueError('Not valid input for measurement: input should be \"I\" or \"X\" or \"Z\" or \"Y\"')\n",
    "    \n",
    "    qc_t = transpile(circuit, backend)\n",
    "    pulse_sched_qc = schedule(qc_t, backend)\n",
    "    \n",
    "    shots=8192\n",
    "    result = backend.run(pulse_sched_qc, shots=shots).result()\n",
    "    counts = result.get_counts()\n",
    "    \n",
    "    # expectation value estimation from counts\n",
    "    expectation_value = 0\n",
    "    for measure_result in counts:\n",
    "        sign = +1\n",
    "        if measure_result == '1':\n",
    "            sign = -1\n",
    "        expectation_value += sign * counts[measure_result] / shots\n",
    "        \n",
    "    return expectation_value"
   ]
  },
  {
   "cell_type": "code",
   "execution_count": 109,
   "id": "bd08673a-d1e1-4544-a7e1-7426d567aa6f",
   "metadata": {},
   "outputs": [],
   "source": [
    "def vqe(parameters, Real_Coeffs_Pauli_Op):\n",
    "        \n",
    "    # quantum_modules\n",
    "    quantum_module_I = Real_Coeffs_Pauli_Op[0] * quantum_module(parameters, 'I')\n",
    "    quantum_module_Z = Real_Coeffs_Pauli_Op[1] * quantum_module(parameters, 'Z')\n",
    "    quantum_module_X = Real_Coeffs_Pauli_Op[2] * quantum_module(parameters, 'X')\n",
    "    \n",
    "    # summing the measurement results\n",
    "    classical_adder = quantum_module_I + quantum_module_Z + quantum_module_X\n",
    "    \n",
    "    return classical_adder"
   ]
  },
  {
   "cell_type": "code",
   "execution_count": 133,
   "id": "f1867e42-da29-496c-9e5a-6c12d11dafe2",
   "metadata": {},
   "outputs": [
    {
     "data": {
      "text/plain": [
       "[-2.359617022069011,\n",
       " -2.3015258530341685,\n",
       " -2.237383351690151,\n",
       " -2.1702452263811356,\n",
       " -2.1147630515000597,\n",
       " -2.0549999193228357,\n",
       " -1.9989645402759324,\n",
       " -1.9434822771662026,\n",
       " -1.8887698863093043,\n",
       " -1.841835008974875,\n",
       " -1.7901398654822085,\n",
       " -1.750556506092765,\n",
       " -1.7021285521827556,\n",
       " -1.6540199563359002,\n",
       " -1.628581810364131,\n",
       " -1.5575767770476872,\n",
       " -1.5000826767735707,\n",
       " -1.4360053675226403,\n",
       " -1.38968411703306,\n",
       " -1.339265889478158]"
      ]
     },
     "execution_count": 133,
     "metadata": {},
     "output_type": "execute_result"
    }
   ],
   "source": [
    "parameters_array = np.array([-np.pi/2, np.pi/2])\n",
    "tol = 1e-2 # tolerance for optimization precision.\n",
    "\n",
    "min_E_distance = []\n",
    "\n",
    "for i in range(len(Real_Coeffs_Pauli_Op_distance)):\n",
    "    \n",
    "    vqe_result = minimize(vqe, parameters_array, Real_Coeffs_Pauli_Op_distance[i], method=\"Powell\", tol=tol)\n",
    "    #print('The exact ground state energy is: {}'.format(-1.13722138))\n",
    "    #print('The estimated ground state energy from VQE algorithm is: {}'.format(vqe_result.fun))\n",
    "    min_E_distance.append(vqe_result.fun)\n",
    "\n",
    "min_E_distance"
   ]
  },
  {
   "cell_type": "code",
   "execution_count": 139,
   "id": "eb565ce3-1600-4e18-979c-7b08c7b088cd",
   "metadata": {},
   "outputs": [
    {
     "data": {
      "image/png": "[encoded data removed]",
      "text/plain": [
       "<Figure size 432x288 with 1 Axes>"
      ]
     },
     "metadata": {
      "needs_background": "light"
     },
     "output_type": "display_data"
    }
   ],
   "source": [
    "x = Atomic_distance_array\n",
    "y = min_E_distance\n",
    "\n",
    "f = UnivariateSpline(x, y, s=0.5)\n",
    "\n",
    "# calculate new x's and y's\n",
    "x_new = np.linspace(x[0], x[len(Atomic_distance_array)-1], 1000)\n",
    "y_new = f(x_new)\n",
    "\n",
    "plt.plot(x,y,'o', label = 'Simulation')\n",
    "plt.plot(x_new, y_new, label = 'Fitted line')\n",
    "#plt.xlim([x[0]-0.15, x[-1] + 0.15 ])\n",
    "#plt.ylim(-1.16,-0.9)\n",
    "plt.legend()\n",
    "plt.xlabel('Atomic separation R (Å)')\n",
    "plt.ylabel('Energy (Hartree)')\n",
    "plt.show()"
   ]
  },
  {
   "cell_type": "code",
   "execution_count": null,
   "id": "a201b4ff-afdd-40f6-a695-5d2221807dc0",
   "metadata": {},
   "outputs": [],
   "source": [
    "New Hamitonian  ####"
   ]
  },
  {
   "cell_type": "code",
   "execution_count": null,
   "id": "24401ed0",
   "metadata": {},
   "outputs": [],
   "source": [
    "simulator ####"
   ]
  },
  {
   "cell_type": "code",
   "execution_count": 155,
   "id": "c0f1e08b-fbb7-453f-a335-fc0413529a7c",
   "metadata": {},
   "outputs": [],
   "source": [
    "Real_Coeffs_Pauli_Op_distance = [] #You need to add Hamiltonian yourself, I cannot provide here. The result is given below"
   ]
  },
  {
   "cell_type": "code",
   "execution_count": 160,
   "id": "4acbd637-2759-4f01-9892-400be56428e3",
   "metadata": {},
   "outputs": [],
   "source": [
    "parameters_array = np.array([-np.pi/2, np.pi/2])\n",
    "tol = 1e-2 # tolerance for optimization precision.\n",
    "\n",
    "min_E_distance = []\n",
    "opotimized_parameters = []\n",
    "\n",
    "for i in range(len(Real_Coeffs_Pauli_Op_distance)):\n",
    "    \n",
    "    vqe_result = minimize(vqe, parameters_array, Real_Coeffs_Pauli_Op_distance[i], method=\"Powell\", tol=tol)\n",
    "    #print('The exact ground state energy is: {}'.format(-1.13722138))\n",
    "    #print('The estimated ground state energy from VQE algorithm is: {}'.format(vqe_result.fun))\n",
    "    min_E_distance.append(vqe_result.fun)\n",
    "    opotimized_parameters.append(vqe_result.x)\n",
    "\n",
    "#min_E_distance\n",
    "#opotimized_parameters"
   ]
  },
  {
   "cell_type": "code",
   "execution_count": 170,
   "id": "ecdbcefe-9949-4fdb-81c1-a9c085ddb8ff",
   "metadata": {},
   "outputs": [
    {
     "data": {
      "text/plain": [
       "[array([-3.12676146,  3.00849042]),\n",
       " array([-3.15032005,  3.00849042]),\n",
       " array([-3.18675958,  3.00849042]),\n",
       " array([-3.15852116,  2.9264511 ]),\n",
       " array([-3.19356531,  2.96829938]),\n",
       " array([-3.0967344 ,  2.95493498]),\n",
       " array([-3.12084188,  2.96787913]),\n",
       " array([-3.19307133,  2.9609792 ]),\n",
       " array([-3.15306309,  2.93276331]),\n",
       " array([-3.14224851,  2.95299009]),\n",
       " array([-3.20342403,  2.87568765]),\n",
       " array([-3.13502311,  2.8658516 ]),\n",
       " array([-3.12299394,  2.84884181]),\n",
       " array([-3.14091922,  2.95276233]),\n",
       " array([-3.20198685,  2.95276233]),\n",
       " array([-3.13207749,  2.73057667]),\n",
       " array([-3.14498082,  2.67818569]),\n",
       " array([-3.13717912,  2.70940944]),\n",
       " array([-3.15760427,  2.58062668]),\n",
       " array([-3.18883033,  2.56613124])]"
      ]
     },
     "execution_count": 170,
     "metadata": {},
     "output_type": "execute_result"
    }
   ],
   "source": [
    "opotimized_parameters"
   ]
  },
  {
   "cell_type": "code",
   "execution_count": 169,
   "id": "e95d71b6-31de-46f3-b493-b2810951e4ae",
   "metadata": {},
   "outputs": [
    {
     "data": {
      "image/png": "[encoded data removed]",
      "text/plain": [
       "<Figure size 432x288 with 1 Axes>"
      ]
     },
     "metadata": {
      "needs_background": "light"
     },
     "output_type": "display_data"
    }
   ],
   "source": [
    "x = Atomic_distance_array\n",
    "y = min_E_distance\n",
    "\n",
    "f = UnivariateSpline(x, y, s=0.001)\n",
    "\n",
    "# calculate new x's and y's\n",
    "x_new = np.linspace(x[0], x[len(Atomic_distance_array)-1], 1000)\n",
    "y_new = f(x_new)\n",
    "\n",
    "plt.plot(x,y,'o', label = 'Simulation')\n",
    "plt.plot(x_new, y_new, label = 'Fitted line')\n",
    "#plt.xlim([x[0]-0.15, x[-1] + 0.15 ])\n",
    "plt.ylim(-1.2,-0.55)\n",
    "plt.legend()\n",
    "plt.xlabel('Atomic separation R (Å)')\n",
    "plt.ylabel('Energy (Hartree)')\n",
    "plt.show()"
   ]
  },
  {
   "cell_type": "code",
   "execution_count": null,
   "id": "b31c25ea-a629-41ce-b549-f9fbef823da9",
   "metadata": {},
   "outputs": [],
   "source": []
  },
  {
   "cell_type": "code",
   "execution_count": null,
   "id": "f3460bdd-b81b-4828-89d5-717e9579219a",
   "metadata": {},
   "outputs": [],
   "source": [
    "Real Backend ####"
   ]
  },
  {
   "cell_type": "code",
   "execution_count": null,
   "id": "89e709f5-d16e-4d48-a980-5833dca54c5e",
   "metadata": {},
   "outputs": [],
   "source": []
  }
 ],
 "metadata": {
  "kernelspec": {
   "display_name": "Python 3",
   "language": "python",
   "name": "python3"
  },
  "language_info": {
   "codemirror_mode": {
    "name": "ipython",
    "version": 3
   },
   "file_extension": ".py",
   "mimetype": "text/x-python",
   "name": "python",
   "nbconvert_exporter": "python",
   "pygments_lexer": "ipython3",
   "version": "3.9.5"
  },
  "widgets": {
   "application/vnd.jupyter.widget-state+json": {
    "state": {},
    "version_major": 2,
    "version_minor": 0
   }
  }
 },
 "nbformat": 4,
 "nbformat_minor": 5
}
